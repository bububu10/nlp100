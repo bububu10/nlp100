{
 "cells": [
  {
   "cell_type": "code",
   "execution_count": 1,
   "metadata": {
    "collapsed": true
   },
   "outputs": [],
   "source": [
    "from typing import Sequence, Iterable\n",
    "\n",
    "\n",
    "def ngram(n: int, seq: Sequence[str]) -> Iterable[str]:\n",
    "    rest = seq\n",
    "    while len(rest) is not n - 1:\n",
    "        yield rest[0:n]\n",
    "        rest = rest[n - 1:]"
   ]
  },
  {
   "cell_type": "code",
   "execution_count": 2,
   "metadata": {},
   "outputs": [
    {
     "name": "stdout",
     "output_type": "stream",
     "text": [
      "x: {'di', 'ad', 'pa', 'ra', 'ar', 'se', 'is', 'ap'}\ny: {'gr', 'ag', 'ph', 'ap', 'ra', 'ar', 'pa'}\nx | y: {'gr', 'di', 'ag', 'ph', 'ad', 'pa', 'ra', 'ar', 'se', 'is', 'ap'}\nx & y: {'pa', 'ra', 'ar', 'ap'}\nx - y: {'is', 'di', 'ad', 'se'}\nx contains \"se\": True\ny contains \"se\": False\n"
     ]
    }
   ],
   "source": [
    "word1 = 'paraparaparadise'\n",
    "word2 = 'paragraph'\n",
    "\n",
    "x = set(ngram(2, word1))\n",
    "y = set(ngram(2, word2))\n",
    "\n",
    "print('x: ' + str(x))\n",
    "print('y: ' + str(y))\n",
    "\n",
    "print('x | y: ' + str(x | y))\n",
    "print('x & y: ' + str(x & y))\n",
    "print('x - y: ' + str(x - y))\n",
    "\n",
    "print('x contains \"se\": ' + str('se' in x))\n",
    "print('y contains \"se\": ' + str('se' in y))"
   ]
  },
  {
   "cell_type": "code",
   "execution_count": null,
   "metadata": {},
   "outputs": [],
   "source": []
  }
 ],
 "metadata": {
  "kernelspec": {
   "display_name": "Python 2",
   "language": "python",
   "name": "python2"
  },
  "language_info": {
   "codemirror_mode": {
    "name": "ipython",
    "version": 2
   },
   "file_extension": ".py",
   "mimetype": "text/x-python",
   "name": "python",
   "nbconvert_exporter": "python",
   "pygments_lexer": "ipython2",
   "version": "2.7.6"
  }
 },
 "nbformat": 4,
 "nbformat_minor": 0
}
