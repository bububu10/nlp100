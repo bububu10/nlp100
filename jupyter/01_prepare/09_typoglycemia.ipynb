{
 "cells": [
  {
   "cell_type": "code",
   "execution_count": 1,
   "metadata": {
    "collapsed": true
   },
   "outputs": [],
   "source": [
    "from random import sample\n",
    "\n",
    "\n",
    "def shuffle(word: str) -> str:\n",
    "    middle = word[1:-1]\n",
    "    return word[0] + \"\".join(sample(middle, len(middle))) + word[-1]"
   ]
  },
  {
   "cell_type": "code",
   "execution_count": 2,
   "metadata": {},
   "outputs": [
    {
     "name": "stdout",
     "output_type": "stream",
     "text": [
      "['I', \"couldn't\", 'believe', 'that', 'I', 'could', 'actually', 'understand', 'what', 'I', 'was', 'reading', ':', 'the', 'phenomenal', 'power', 'of', 'the', 'human', 'mind', '.']\n"
     ]
    }
   ],
   "source": [
    "sentence = \"I couldn't believe that I could actually understand what I was reading : the phenomenal power of the human mind .\"\n",
    "words = sentence.split(' ')\n",
    "print(words)"
   ]
  },
  {
   "cell_type": "code",
   "execution_count": 3,
   "metadata": {},
   "outputs": [
    {
     "name": "stdout",
     "output_type": "stream",
     "text": [
      "I cnd'luot bleivee that I cloud aatlulcy udesrntnad what I was renaidg : the phmnoaenel pwoer of the hmuan mind .\n"
     ]
    }
   ],
   "source": [
    "shuffled = [shuffle(word) if (len(word) > 4) else word for word in words]\n",
    "print(\" \".join(shuffled))"
   ]
  },
  {
   "cell_type": "code",
   "execution_count": null,
   "metadata": {},
   "outputs": [],
   "source": []
  }
 ],
 "metadata": {
  "kernelspec": {
   "display_name": "Python 2",
   "language": "python",
   "name": "python2"
  },
  "language_info": {
   "codemirror_mode": {
    "name": "ipython",
    "version": 2
   },
   "file_extension": ".py",
   "mimetype": "text/x-python",
   "name": "python",
   "nbconvert_exporter": "python",
   "pygments_lexer": "ipython2",
   "version": "2.7.6"
  }
 },
 "nbformat": 4,
 "nbformat_minor": 0
}
