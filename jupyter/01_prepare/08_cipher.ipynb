{
 "cells": [
  {
   "cell_type": "code",
   "execution_count": 1,
   "metadata": {
    "collapsed": true
   },
   "outputs": [],
   "source": [
    "def cipher(plain: str) -> str:\n",
    "    seq = [chr(219 - ord(char)) if (char.islower()) else char for char in plain]\n",
    "    return \"\".join(seq)"
   ]
  },
  {
   "cell_type": "code",
   "execution_count": 2,
   "metadata": {},
   "outputs": [
    {
     "name": "stdout",
     "output_type": "stream",
     "text": [
      "origin: I am a cat.\nencrypt: I zn z xzg.\ndecrypt: I am a cat.\n"
     ]
    }
   ],
   "source": [
    "origin = 'I am a cat.'\n",
    "print('origin: ' + origin)\n",
    "encrypt = cipher(origin)\n",
    "print('encrypt: ' + encrypt)\n",
    "decrypt = cipher(encrypt)\n",
    "print('decrypt: ' + decrypt)"
   ]
  },
  {
   "cell_type": "code",
   "execution_count": null,
   "metadata": {},
   "outputs": [],
   "source": []
  }
 ],
 "metadata": {
  "kernelspec": {
   "display_name": "Python 2",
   "language": "python",
   "name": "python2"
  },
  "language_info": {
   "codemirror_mode": {
    "name": "ipython",
    "version": 2
   },
   "file_extension": ".py",
   "mimetype": "text/x-python",
   "name": "python",
   "nbconvert_exporter": "python",
   "pygments_lexer": "ipython2",
   "version": "2.7.6"
  }
 },
 "nbformat": 4,
 "nbformat_minor": 0
}
